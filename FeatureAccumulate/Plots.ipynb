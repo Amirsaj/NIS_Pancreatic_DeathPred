{
 "cells": [
  {
   "cell_type": "code",
   "execution_count": 1,
   "id": "e6e4fd6c-a259-4fb2-9769-bfb37f5ccd30",
   "metadata": {},
   "outputs": [],
   "source": [
    "import pandas as pd\n",
    "import plotly.graph_objects as go\n"
   ]
  },
  {
   "cell_type": "code",
   "execution_count": 2,
   "id": "5476e485-a2c2-4c38-834a-8216443ab7bb",
   "metadata": {},
   "outputs": [],
   "source": [
    "def plot_metrics(df, file_name):\n",
    "    for column in df.columns:\n",
    "        if column =='Unnamed: 0':\n",
    "            continue\n",
    "        # print(column)\n",
    "        fig = go.Figure()\n",
    "        fig.add_trace(go.Scatter(\n",
    "            x=df.index,\n",
    "            y=df[column],\n",
    "            mode='lines',\n",
    "            line_shape='spline',\n",
    "\n",
    "            name=column\n",
    "        ))\n",
    "        fig.update_layout(\n",
    "            title=f\"{column} vs. Number of Features\",\n",
    "            xaxis_title=\"Number of Features\",\n",
    "            yaxis_title=column,\n",
    "            width=800,\n",
    "            height=600\n",
    "        )\n",
    "        # fig.show()\n",
    "        fig.write_image(column+file_name, width=800, height=600)\n",
    "\n",
    "    # fig.show()\n"
   ]
  },
  {
   "cell_type": "code",
   "execution_count": 5,
   "id": "75a0f48d-dc12-4e8d-89bb-aea800554550",
   "metadata": {},
   "outputs": [],
   "source": [
    "df = pd.read_csv('SGD_Feat_selectionANOVA_train.csv')\n",
    "df = df.iloc[[1,10,20,30,50,100,200,300,500]]\n",
    "# df = df.iloc[list(range(1,500,50))]\n",
    "\n",
    "plot_metrics(df, 'SGDAnova.png')\n"
   ]
  },
  {
   "cell_type": "code",
   "execution_count": 30,
   "id": "43016fde-5920-46a4-9123-29e55b0b95a7",
   "metadata": {},
   "outputs": [
    {
     "data": {
      "text/plain": [
       "[0, 2, 4, 6, 8]"
      ]
     },
     "execution_count": 30,
     "metadata": {},
     "output_type": "execute_result"
    }
   ],
   "source": [
    "list(range(0,10,2))"
   ]
  },
  {
   "cell_type": "code",
   "execution_count": 10,
   "id": "f0365075-0b2a-40dd-91a6-9dd0d04f3d9e",
   "metadata": {},
   "outputs": [],
   "source": [
    "df = pd.read_csv('RF_Feat_selectionANOVA_train.csv')\n",
    "# df = df.iloc[[1,10,20,30,50,100,200,300,500]]\n",
    "df = df.iloc[list(range(1,500,50))]\n",
    "\n",
    "plot_metrics(df, 'RF.png')\n"
   ]
  },
  {
   "cell_type": "code",
   "execution_count": null,
   "id": "03374dc4-6f92-41c6-bffb-0c8989876ae8",
   "metadata": {},
   "outputs": [],
   "source": []
  },
  {
   "cell_type": "code",
   "execution_count": 8,
   "id": "d86adb95-c87c-4a37-af45-77c7e05604d9",
   "metadata": {},
   "outputs": [],
   "source": [
    "df = pd.read_csv('MLP_Feat_selectionANOVA_train.csv')\n",
    "df = df.iloc[[1,10,20,30,50,100,200,300,500]]\n",
    "# df = df.iloc[list(range(1,600,40))]\n",
    "plot_metrics(df, 'MLPANOVA.png')\n"
   ]
  },
  {
   "cell_type": "code",
   "execution_count": 9,
   "id": "0e784db5-9f36-45c6-8c33-318e09f3e9b4",
   "metadata": {},
   "outputs": [],
   "source": [
    "df = pd.read_csv('Ridge_Feat_selectionANOVA_train.csv')\n",
    "# df = df.iloc[[5,10,20,30,50,100,200,300,500]]\n",
    "plot_metrics(df, 'RidgeANOVA.png')\n"
   ]
  },
  {
   "cell_type": "code",
   "execution_count": null,
   "id": "3dcf6823-1c97-4683-90d0-cb48c3d9c15a",
   "metadata": {},
   "outputs": [],
   "source": []
  }
 ],
 "metadata": {
  "kernelspec": {
   "display_name": "Amirsajjad",
   "language": "python",
   "name": "amirsajjad"
  },
  "language_info": {
   "codemirror_mode": {
    "name": "ipython",
    "version": 3
   },
   "file_extension": ".py",
   "mimetype": "text/x-python",
   "name": "python",
   "nbconvert_exporter": "python",
   "pygments_lexer": "ipython3",
   "version": "3.10.4"
  }
 },
 "nbformat": 4,
 "nbformat_minor": 5
}
