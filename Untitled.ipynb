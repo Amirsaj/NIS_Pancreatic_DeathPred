{
 "cells": [
  {
   "cell_type": "code",
   "execution_count": 5,
   "id": "31f3fd6f-483d-4100-8c11-02dcb8b67f00",
   "metadata": {},
   "outputs": [
    {
     "name": "stdout",
     "output_type": "stream",
     "text": [
      "['age', 'race2.0', 'race6.0', 'race5.0', 'race4.0', 'race3.0', 'race0.0', 'race1.0', 'female', 'BLD001', 'BLD002', 'BLD003', 'BLD004', 'BLD005', 'BLD006', 'BLD007', 'BLD008', 'BLD009', 'BLD010', 'CIR001', 'CIR002', 'CIR003', 'CIR004', 'CIR005', 'CIR006', 'CIR007', 'CIR008', 'CIR009', 'CIR010', 'CIR011', 'CIR012', 'CIR013', 'CIR014', 'CIR015', 'CIR016', 'CIR017', 'CIR018', 'CIR019', 'CIR020', 'CIR021', 'CIR022', 'CIR023', 'CIR024', 'CIR025', 'CIR026', 'CIR027', 'CIR028', 'CIR029', 'CIR030', 'CIR031', 'CIR032', 'CIR033', 'CIR034', 'CIR035', 'CIR036', 'CIR038', 'CIR039', 'DIG001', 'DIG002', 'DIG003', 'DIG004', 'DIG005', 'DIG006', 'DIG007', 'DIG008', 'DIG009', 'DIG010', 'DIG011', 'DIG012', 'DIG013', 'DIG014', 'DIG015', 'DIG016', 'DIG017', 'DIG018', 'DIG019', 'DIG020', 'DIG021', 'DIG022', 'DIG023', 'DIG024', 'DIG025', 'EAR002', 'EAR003', 'EAR004', 'EAR006', 'END001', 'END002', 'END003', 'END007', 'END008', 'END009', 'END010', 'END011', 'END012', 'END013', 'END014', 'END015', 'END016', 'EYE001', 'EYE002', 'EYE003', 'EYE004', 'EYE005', 'EYE006', 'EYE007', 'EYE008', 'EYE009', 'EYE010', 'EYE012', 'FAC003', 'FAC004', 'FAC006', 'FAC008', 'FAC009', 'FAC014', 'FAC016', 'FAC020', 'FAC021', 'FAC022', 'FAC025', 'GEN001', 'GEN002', 'GEN003', 'GEN004', 'GEN005', 'GEN006', 'GEN007', 'GEN008', 'GEN009', 'GEN010', 'GEN012', 'GEN013', 'GEN014', 'GEN016', 'GEN017', 'GEN018', 'GEN019', 'GEN020', 'GEN021', 'GEN022', 'GEN023', 'GEN025', 'GEN026', 'INF001', 'INF002', 'INF003', 'INF004', 'INF005', 'INF006', 'INF007', 'INF008', 'INF009', 'INF010', 'INJ001', 'INJ002', 'INJ003', 'INJ004', 'INJ005', 'INJ006', 'INJ007', 'INJ008', 'INJ009', 'INJ010', 'INJ011', 'INJ012', 'INJ013', 'INJ016', 'INJ017', 'INJ019', 'INJ020', 'INJ021', 'INJ022', 'INJ023', 'INJ024', 'INJ025', 'INJ026', 'INJ027', 'INJ028', 'INJ030', 'INJ031', 'INJ033', 'INJ034', 'INJ035', 'INJ036', 'INJ037', 'INJ039', 'INJ040', 'INJ041', 'INJ042', 'INJ043', 'INJ045', 'INJ047', 'INJ049', 'INJ050', 'INJ054', 'INJ069', 'INJ072', 'INJ073', 'INJ074', 'INJ076', 'MAL001', 'MAL002', 'MAL003', 'MAL004', 'MAL008', 'MAL009', 'MAL010', 'MBD001', 'MBD002', 'MBD003', 'MBD004', 'MBD005', 'MBD006', 'MBD007', 'MBD008', 'MBD009', 'MBD010', 'MBD011', 'MBD012', 'MBD013', 'MBD014', 'MBD017', 'MBD018', 'MBD019', 'MBD020', 'MBD021', 'MBD022', 'MBD024', 'MBD025', 'MBD026', 'MUS001', 'MUS002', 'MUS003', 'MUS004', 'MUS006', 'MUS007', 'MUS008', 'MUS009', 'MUS010', 'MUS011', 'MUS012', 'MUS013', 'MUS014', 'MUS015', 'MUS016', 'MUS017', 'MUS020', 'MUS021', 'MUS022', 'MUS023', 'MUS024', 'MUS025', 'MUS026', 'MUS028', 'MUS029', 'MUS030', 'MUS032', 'MUS033', 'MUS034', 'MUS037', 'MUS038', 'NEO002', 'NEO007', 'NEO008', 'NEO009', 'NEO010', 'NEO012', 'NEO013', 'NEO014', 'NEO015', 'NEO016', 'NEO017', 'NEO018', 'NEO019', 'NEO020', 'NEO021', 'NEO022', 'NEO023', 'NEO024', 'NEO025', 'NEO026', 'NEO027', 'NEO028', 'NEO029', 'NEO030', 'NEO031', 'NEO032', 'NEO033', 'NEO035', 'NEO036', 'NEO039', 'NEO040', 'NEO043', 'NEO044', 'NEO045', 'NEO047', 'NEO050', 'NEO056', 'NEO057', 'NEO058', 'NEO059', 'NEO060', 'NEO061', 'NEO062', 'NEO063', 'NEO064', 'NEO065', 'NEO066', 'NEO067', 'NEO068', 'NEO069', 'NEO070', 'NEO071', 'NEO072', 'NEO073', 'NEO074', 'NVS001', 'NVS002', 'NVS003', 'NVS004', 'NVS005', 'NVS006', 'NVS007', 'NVS008', 'NVS009', 'NVS010', 'NVS011', 'NVS012', 'NVS013', 'NVS014', 'NVS015', 'NVS016', 'NVS017', 'NVS018', 'NVS019', 'NVS020', 'NVS021', 'NVS022', 'RSP001', 'RSP002', 'RSP003', 'RSP005', 'RSP006', 'RSP007', 'RSP008', 'RSP009', 'RSP010', 'RSP011', 'RSP013', 'RSP014', 'RSP015', 'RSP016', 'RSP017', 'SKN001', 'SKN002', 'SKN003', 'SKN004', 'SKN005', 'SKN006', 'SKN007', 'SYM001', 'SYM002', 'SYM003', 'SYM004', 'SYM005', 'SYM006', 'SYM007', 'SYM008', 'SYM010', 'SYM011', 'SYM012', 'SYM013', 'SYM014', 'SYM015', 'SYM016', 'SYM017', 'XXX000', 'ADM001', 'ADM002', 'ADM003', 'ADM004', 'ADM005', 'ADM006', 'ADM007', 'ADM010', 'ADM012', 'ADM013', 'ADM014', 'ADM015', 'ADM016', 'ADM017', 'ADM018', 'ADM020', 'ADM021', 'CAR002', 'CAR003', 'CAR004', 'CAR006', 'CAR007', 'CAR008', 'CAR009', 'CAR010', 'CAR011', 'CAR012', 'CAR014', 'CAR015', 'CAR016', 'CAR017', 'CAR019', 'CAR020', 'CAR021', 'CAR022', 'CAR023', 'CAR024', 'CAR025', 'CAR026', 'CAR028', 'CAR029', 'CNS001', 'CNS002', 'CNS004', 'CNS005', 'CNS006', 'CNS007', 'CNS008', 'CNS010', 'CNS011', 'CNS013', 'CNS014', 'ENP001', 'ENP004', 'ENT001', 'ENT002', 'ENT003', 'ENT006', 'ENT013', 'ENT017', 'ESA001', 'ESA002', 'ESA004', 'ESA005', 'ESA006', 'ESA007', 'ESA008', 'ESA009', 'ESA010', 'EST001', 'EST004', 'EST005', 'FRS001', 'FRS002', 'FRS003', 'FRS004', 'FRS010', 'FRS015', 'GIS001', 'GIS002', 'GIS003', 'GIS004', 'GIS005', 'GIS006', 'GIS007', 'GIS008', 'GIS009', 'GIS010', 'GIS011', 'GIS012', 'GIS013', 'GIS015', 'GIS016', 'GIS017', 'GIS018', 'GIS019', 'GIS021', 'GIS022', 'GIS024', 'GIS025', 'GIS026', 'GIS027', 'GIS028', 'GIS029', 'GNR002', 'GNR003', 'GNR004', 'GNR005', 'GNR006', 'GNR007', 'GNR008', 'GNR009', 'HEP001', 'HEP002', 'HEP003', 'HEP004', 'HEP005', 'HEP006', 'HEP007', 'HEP008', 'HEP009', 'HEP010', 'HEP013', 'IMG001', 'IMG002', 'IMG003', 'IMG004', 'IMG005', 'IMG006', 'IMG007', 'IMG008', 'IMG009', 'LYM001', 'LYM002', 'LYM003', 'LYM005', 'LYM006', 'LYM007', 'MAM001', 'MAM002', 'MAM003', 'MAM004', 'MAM005', 'MAM006', 'MAM007', 'MAM008', 'MAM009', 'MAM010', 'MAM011', 'MAM013', 'MAM015', 'MRS003', 'MRS004', 'MRS005', 'MST001', 'MST002', 'MST003', 'MST004', 'MST005', 'MST006', 'MST007', 'MST008', 'MST009', 'MST010', 'MST011', 'MST012', 'MST013', 'MST014', 'MST015', 'MST016', 'MST017', 'MST018', 'MST019', 'MST020', 'MST022', 'MST023', 'MST024', 'MST025', 'MST028', 'MST029', 'MST030', 'NCM001', 'NCM002', 'OST001', 'OTR001', 'OTR002', 'OTR004', 'PLC001', 'PLC002', 'PNS001', 'PNS002', 'PNS005', 'PNS006', 'RAD001', 'RAD002', 'RAD003', 'RAD004', 'RES001', 'RES002', 'RES003', 'RES004', 'RES005', 'RES006', 'RES008', 'RES009', 'RES010', 'RES011', 'RES012', 'RES014', 'RHB001', 'RHB002', 'RHB004', 'SKB001', 'SKB002', 'SKB006', 'SKB007', 'SKB008', 'SKB009', 'SKB010', 'SUD001', 'SUD002', 'URN001', 'URN002', 'URN003', 'URN004', 'URN005', 'URN006', 'URN008', 'URN009', 'URN010', 'died']\n"
     ]
    }
   ],
   "source": [
    "import pickle\n",
    "\n",
    "# Open the .pkl file\n",
    "with open('metaData.pkl', 'rb') as file:\n",
    "    data = pickle.load(file)\n",
    "\n",
    "# Access the loaded data\n",
    "# Assuming the .pkl file contains a dictionary\n",
    "print(data['Features'])\n"
   ]
  },
  {
   "cell_type": "code",
   "execution_count": 6,
   "id": "468d76b1-45bd-46cf-9e62-d1e46970cccd",
   "metadata": {},
   "outputs": [],
   "source": [
    "with open('feature_normalization.txt', 'w') as file:\n",
    "    for feature, norm in zip(data['Features'], data['norm']):\n",
    "        file.write(f\"{feature}: {norm}\\n\")\n"
   ]
  },
  {
   "cell_type": "code",
   "execution_count": 32,
   "id": "8f47d5d9-3191-4563-a637-f5e79c1c6e7a",
   "metadata": {},
   "outputs": [],
   "source": [
    "import h5py\n",
    "import numpy as np\n",
    "\n",
    "def getWeightForLayer(layer_name, file_name):\n",
    "    weights = []\n",
    "    with h5py.File(file_name, 'r') as f:\n",
    "        f.visititems(lambda name, obj: collectWeights(name, obj, layer_name, weights))\n",
    "    return weights\n",
    "\n",
    "def collectWeights(name, obj, layer_name, weights):\n",
    "    if isinstance(obj, h5py.Dataset) and layer_name in name:\n",
    "        weights.append(np.array(obj))\n",
    "\n",
    "# Replace 'Hidden50_50Epoch10.hdf5' with the actual name of your HDF5 file\n",
    "file_name = 'Hidden50_50Epoch10.hdf5'\n",
    "\n",
    "# Replace 'dense_1' with the specific layer name you want to extract weights from\n",
    "layer_name = 'dense_1'\n",
    "\n",
    "weights = getWeightForLayer(layer_name, file_name)\n",
    "# for i, weight in enumerate(weights):\n",
    "#     print(f\"Weights {i+1}: {weight}\")\n",
    "#     print(weight.shape)\n",
    "    \n",
    "output_file = 'weights_output.txt'\n",
    "\n",
    "# with open(output_file, 'w') as file:\n",
    "#     file.write(f\"Weights for Layer: {layer_name}\\n\\n\")\n",
    "#     for i, weight in enumerate(weights):\n",
    "#         weight_shape = weight.shape\n",
    "#         file.write(f\"Weights {i+1} Shape: {weight_shape}\\n\")\n",
    "#         file.write(f\"Weights {i+1} : {weight}\\n\")\n",
    "\n",
    "with open(output_file, 'w') as file:\n",
    "    file.write(f\"Weights for Layer: {layer_name}\\n\\n\")\n",
    "    for i, weight in enumerate(weights):\n",
    "        weight_shape = weight.shape\n",
    "        file.write(f\"Weights {i+1} Shape: {weight_shape}\\n\")\n",
    "        # file.write(\"Comment: Add your brief comment here about the shape.\\n\")\n",
    "        file.write(f\"Weights {i+1}:\\n\")\n",
    "        np.savetxt(file, weight, fmt='%.8f', delimiter=', ')\n",
    "        file.write(\"\\n\\n\")\n",
    "\n"
   ]
  },
  {
   "cell_type": "code",
   "execution_count": 34,
   "id": "c21fa4f5-f221-4e2c-9b1d-7b745898caa7",
   "metadata": {},
   "outputs": [],
   "source": [
    "import pandas as pd\n",
    "import plotly.express as px\n",
    "\n",
    "# Read the logloss values from the CSV file\n",
    "logloss_df = pd.read_csv('logloss.csv')\n",
    "\n",
    "# Create the plot using Plotly\n",
    "fig = px.line(logloss_df, x=logloss_df.index, y=['Training Logloss', 'Validation Logloss'], title='Logloss')\n",
    "fig.update_layout(width=1200, height=800, xaxis_title='Epoch', yaxis_title='LogLoss')  # Set x-axis and y-axis labels\n",
    "\n",
    "# Save the plot as a PNG image with high resolution\n",
    "fig.write_image('logloss_plot.png', engine='kaleido', scale=5)  # Adjust the scale value for higher resolution\n"
   ]
  },
  {
   "cell_type": "code",
   "execution_count": null,
   "id": "d1d615fa-b185-4efb-8146-72222a5ac789",
   "metadata": {},
   "outputs": [],
   "source": []
  }
 ],
 "metadata": {
  "kernelspec": {
   "display_name": "Amirsajjad",
   "language": "python",
   "name": "amirsajjad"
  },
  "language_info": {
   "codemirror_mode": {
    "name": "ipython",
    "version": 3
   },
   "file_extension": ".py",
   "mimetype": "text/x-python",
   "name": "python",
   "nbconvert_exporter": "python",
   "pygments_lexer": "ipython3",
   "version": "3.10.4"
  }
 },
 "nbformat": 4,
 "nbformat_minor": 5
}
