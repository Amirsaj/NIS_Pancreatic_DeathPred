{
 "cells": [
  {
   "cell_type": "code",
   "execution_count": 2,
   "id": "81f252e2-7494-470e-8691-f5707651e2b7",
   "metadata": {},
   "outputs": [],
   "source": [
    "import pandas as pd\n",
    "import plotly.graph_objects as go\n",
    "\n",
    "# Read the first file - Hidden100_50_AUC.csv\n",
    "df_auc = pd.read_csv('../Hidden25_100Epoch25_AUC.csv')\n",
    "\n",
    "# Read the second file - Hidden100_50Epoch100model.csv\n",
    "df_model = pd.read_csv('../Hidden25_100Epoch25model.csv')\n",
    "\n",
    "# List of columns to plot\n",
    "columns_to_plot_auc = ['Training AUC', 'Validation AUC']\n",
    "columns_to_plot_model = ['Training Logloss', 'Validation Logloss']\n",
    "\n",
    "# Create a figure using Plotly\n",
    "fig = go.Figure()\n",
    "\n",
    "# Add lines to the figure for columns in df_auc\n",
    "for column in columns_to_plot_auc:\n",
    "    fig.add_trace(go.Scatter(x=df_auc.index, y=df_auc[column], mode='lines', name=column))\n",
    "\n",
    "# Add lines to the figure for columns in df_model\n",
    "for column in columns_to_plot_model:\n",
    "    fig.add_trace(go.Scatter(x=df_model.index, y=df_model[column], mode='lines', name=column))\n",
    "\n",
    "# Update the figure layout\n",
    "fig.update_layout(title='Metrics Over Epochs')\n",
    "\n",
    "# Save the figure as a PNG image\n",
    "fig.write_image('combined_plot.png', width=800, height=600)\n"
   ]
  },
  {
   "cell_type": "code",
   "execution_count": null,
   "id": "2f3b3c9a-d9e4-4755-9299-2df95b49e262",
   "metadata": {},
   "outputs": [],
   "source": []
  }
 ],
 "metadata": {
  "kernelspec": {
   "display_name": "Amirsajjad",
   "language": "python",
   "name": "amirsajjad"
  },
  "language_info": {
   "codemirror_mode": {
    "name": "ipython",
    "version": 3
   },
   "file_extension": ".py",
   "mimetype": "text/x-python",
   "name": "python",
   "nbconvert_exporter": "python",
   "pygments_lexer": "ipython3",
   "version": "3.10.4"
  }
 },
 "nbformat": 4,
 "nbformat_minor": 5
}
