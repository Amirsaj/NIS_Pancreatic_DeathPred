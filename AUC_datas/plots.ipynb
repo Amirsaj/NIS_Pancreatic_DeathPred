{
 "cells": [
  {
   "cell_type": "code",
   "execution_count": 2,
   "id": "1637bb4f-8e86-4373-b319-fbeebde0781f",
   "metadata": {},
   "outputs": [],
   "source": [
    "import plotly.express as px\n",
    "import plotly.io as pio\n",
    "import plotly.graph_objects as go\n",
    "\n",
    "import pandas as pd"
   ]
  },
  {
   "cell_type": "code",
   "execution_count": 3,
   "id": "dd18540f-9d3f-4977-8306-a157c83fdc48",
   "metadata": {},
   "outputs": [],
   "source": [
    "\n",
    "\n",
    "def plot_auc(df_list, models):\n",
    "    fig = go.Figure()\n",
    "    for df,model in zip(df_list,models):\n",
    "        fig.add_trace(go.Scatter(x=df['False Positive Rate'], y=df['True Positive Rate'],\n",
    "                                 mode='lines', name=f'{model} - {model}'))\n",
    "\n",
    "    fig.update_layout(title='AUC Plot', xaxis_title='False Positive Rate', yaxis_title='True Positive Rate')\n",
    "    fig.write_image('auc_plot.png')\n",
    "\n"
   ]
  },
  {
   "cell_type": "code",
   "execution_count": 4,
   "id": "a9878f22-7980-49ee-9a28-c606ce36a7f4",
   "metadata": {},
   "outputs": [],
   "source": [
    "import plotly.graph_objects as go\n",
    "\n",
    "def plot_auc(df_list, models,ROC):\n",
    "    fig = go.Figure()\n",
    "    nameofPNG = ''\n",
    "    for df, model,rc in zip(df_list, models,ROC):\n",
    "        nameofPNG = nameofPNG + \"and\" + model\n",
    "        fig.add_trace(go.Scatter(x=df['False Positive Rate'], y=df['True Positive Rate'],\n",
    "                                 mode='lines', name=f'{model}({rc})'))\n",
    "\n",
    "    fig.update_layout(\n",
    "        title='AUC Plot',\n",
    "        xaxis_title='False Positive Rate',\n",
    "        yaxis_title='True Positive Rate',\n",
    "        legend=dict(x=1, y=0, xanchor='right', yanchor='bottom')\n",
    "    )\n",
    "    fig.write_image('Temp'+'.png')\n",
    "    fig.write_image(nameofPNG+'.png')\n",
    "\n"
   ]
  },
  {
   "cell_type": "code",
   "execution_count": 5,
   "id": "b1ba1af4-14ac-4b0c-a579-fb7f3814e82f",
   "metadata": {},
   "outputs": [],
   "source": [
    "SGD = pd.read_csv('SGD_Auc.csv')\n",
    "MLP = pd.read_csv('MLP_Auc.csv')\n",
    "NN = pd.read_csv('NN_Threshold.csv')\n",
    "Ridge = pd.read_csv('Ridge_Auc.csv')\n",
    "RF = pd.read_csv('RF_Auc.csv')"
   ]
  },
  {
   "cell_type": "code",
   "execution_count": 6,
   "id": "90b7e713-6a9d-4e0f-8d79-e8cd9d538ae3",
   "metadata": {},
   "outputs": [],
   "source": [
    "df_list = [SGD,MLP,Ridge,RF]  # List of dataframes\n",
    "models = ['SGD','MLP','Ridge','RF']  # Models to plot\n",
    "ro = ['0.88','0.84','0.88','0.91']  # Models to plot\n",
    "\n",
    "plot_auc(df_list, models,ro)"
   ]
  },
  {
   "cell_type": "markdown",
   "id": "0818b4be-ea4f-4bb0-9e9b-25acb1a3aebe",
   "metadata": {},
   "source": [
    "## DeepLearning"
   ]
  },
  {
   "cell_type": "code",
   "execution_count": 54,
   "id": "245d6a84-952b-4527-ae3f-5fc49420af67",
   "metadata": {},
   "outputs": [],
   "source": [
    "path2NN = '../Reports/'\n",
    "dfdir = {}\n",
    "aucdir = {}\n",
    "for FirstLayer in [10,25,50,100]:\n",
    "    for SecondLayer in [10,25,50,100]:\n",
    "        for epoch in [25,50,100]:\n",
    "            path2CSV = path2NN+str(FirstLayer)+'_'+str(SecondLayer)+'_'+str(epoch)+'NN/'+'NN_Threshold.csv'\n",
    "            path2AUC = path2NN+str(FirstLayer)+'_'+str(SecondLayer)+'_'+str(epoch)+'NN/'+'results.txt'\n",
    "            with open(path2AUC, 'r') as file:\n",
    "                lines = file.readlines()\n",
    "                line_11 = lines[10]\n",
    "                # print(line_11.split(':')[1][1:6])\n",
    "                aucdir[str(FirstLayer)+'_'+str(SecondLayer)+'_'+str(epoch)] = line_11.split(':')[1][1:6]\n",
    "            df = pd.read_csv(path2CSV)\n",
    "            dfdir[str(FirstLayer)+'_'+str(SecondLayer)+'_'+str(epoch)] = df\n",
    "            "
   ]
  },
  {
   "cell_type": "code",
   "execution_count": 33,
   "id": "54212357-ccd3-4011-887d-32f68ceba6f1",
   "metadata": {},
   "outputs": [],
   "source": [
    "df_list = [dfdir['10_10_25'],dfdir['10_10_50']]  # List of dataframes\n",
    "models = ['NNdir','sds']  # Models to plot\n",
    "ro = ['0.88','0.86']  # Models to plot\n",
    "\n",
    "plot_auc(df_list, models,ro)"
   ]
  },
  {
   "cell_type": "code",
   "execution_count": 57,
   "id": "0b8f19d7-07bd-4efd-85c6-b688f1e07576",
   "metadata": {},
   "outputs": [],
   "source": [
    "df_list = []\n",
    "models = []  # Models to plot\n",
    "ro = [] \n",
    "conter = 0\n",
    "for FirstLayer in [10,25,50,100]:\n",
    "    for SecondLayer in [10,25,50,100]:\n",
    "        for epoch in [25,50,100]:\n",
    "            conter += 1\n",
    "            if conter%7 != 0:\n",
    "                continue\n",
    "            df_list.append(dfdir[str(FirstLayer)+'_'+str(SecondLayer)+'_'+str(epoch)])\n",
    "            models.append(str(FirstLayer)+' X '+str(SecondLayer)+' Epoch: '+str(epoch)+' ')\n",
    "            ro.append(aucdir[str(FirstLayer)+'_'+str(SecondLayer)+'_'+str(epoch)])\n",
    "plot_auc(df_list, models,ro)"
   ]
  },
  {
   "cell_type": "code",
   "execution_count": null,
   "id": "52627287-bc47-4765-8b05-3215d650445a",
   "metadata": {},
   "outputs": [],
   "source": []
  }
 ],
 "metadata": {
  "kernelspec": {
   "display_name": "Amirsajjad",
   "language": "python",
   "name": "amirsajjad"
  },
  "language_info": {
   "codemirror_mode": {
    "name": "ipython",
    "version": 3
   },
   "file_extension": ".py",
   "mimetype": "text/x-python",
   "name": "python",
   "nbconvert_exporter": "python",
   "pygments_lexer": "ipython3",
   "version": "3.10.4"
  }
 },
 "nbformat": 4,
 "nbformat_minor": 5
}
